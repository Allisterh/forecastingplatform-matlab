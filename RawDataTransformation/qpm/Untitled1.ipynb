{
 "cells": [
  {
   "cell_type": "code",
   "execution_count": 2,
   "metadata": {},
   "outputs": [],
   "source": [
    "import pandas as pd"
   ]
  },
  {
   "cell_type": "code",
   "execution_count": 3,
   "metadata": {},
   "outputs": [],
   "source": [
    "df = pd.read_excel('BLT.xls', sheet_name='observed', index_col=0)"
   ]
  },
  {
   "cell_type": "code",
   "execution_count": 4,
   "metadata": {},
   "outputs": [],
   "source": [
    "df.index = df.index.map(lambda x: int(x.replace(':', '').replace('Q', '')))\n",
    "quarters = pd.date_range(start=str(df.index.min() // 10) + '-' + str(df.index.min() % 10 * 3 - 2) + '-1',\n",
    "                         end=str(df.index.max() // 10) + '-' + str(df.index.max() % 10 * 3 - 2) + '-1',\n",
    "                         freq='QS')"
   ]
  },
  {
   "cell_type": "code",
   "execution_count": 5,
   "metadata": {},
   "outputs": [],
   "source": [
    "df = pd.concat([df]*len(quarters), ignore_index=True, axis=1)"
   ]
  },
  {
   "cell_type": "code",
   "execution_count": 6,
   "metadata": {},
   "outputs": [],
   "source": [
    "df.columns = quarters.map(lambda x: x.year*10+x.quarter)\n",
    "df.index.name = 'DATE'"
   ]
  },
  {
   "cell_type": "code",
   "execution_count": 7,
   "metadata": {},
   "outputs": [],
   "source": [
    "df_spf = df.copy()\n",
    "df_nospf = df.copy()\n",
    "for index, row in df.iterrows():\n",
    "    for col in df.columns:\n",
    "        if index > col:\n",
    "            df_spf.loc[index, col] = -999\n",
    "            df_nospf.loc[index, col] = -999\n",
    "        elif index == col:\n",
    "            df_nospf.loc[index, col] = -999"
   ]
  },
  {
   "cell_type": "code",
   "execution_count": 8,
   "metadata": {},
   "outputs": [],
   "source": [
    "df_nospf.index = df_nospf.index.map(lambda x: str(x)[:4]+':Q'+str(x)[-1])\n",
    "df_nospf.columns = df_nospf.columns.map(lambda x: str(x)[2:4]+'Q'+str(x)[-1])"
   ]
  },
  {
   "cell_type": "code",
   "execution_count": 9,
   "metadata": {},
   "outputs": [],
   "source": [
    "df_nospf.to_excel('BLT_US.xls')"
   ]
  },
  {
   "cell_type": "code",
   "execution_count": null,
   "metadata": {},
   "outputs": [],
   "source": []
  }
 ],
 "metadata": {
  "kernelspec": {
   "display_name": "Python 3",
   "language": "python",
   "name": "python3"
  },
  "language_info": {
   "codemirror_mode": {
    "name": "ipython",
    "version": 3
   },
   "file_extension": ".py",
   "mimetype": "text/x-python",
   "name": "python",
   "nbconvert_exporter": "python",
   "pygments_lexer": "ipython3",
   "version": "3.7.4"
  }
 },
 "nbformat": 4,
 "nbformat_minor": 2
}
