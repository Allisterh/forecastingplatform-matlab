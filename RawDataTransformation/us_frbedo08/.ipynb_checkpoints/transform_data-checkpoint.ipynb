{
 "cells": [
  {
   "cell_type": "markdown",
   "metadata": {},
   "source": [
    "#### load libraries"
   ]
  },
  {
   "cell_type": "code",
   "execution_count": 4,
   "metadata": {
    "ExecuteTime": {
     "end_time": "2019-06-10T19:33:25.507405Z",
     "start_time": "2019-06-10T19:33:25.498310Z"
    }
   },
   "outputs": [],
   "source": [
    "# The program runs on Python 3.6\n",
    "import pandas as pd\n",
    "import numpy as np\n",
    "from tqdm import tqdm_notebook\n",
    "pd.set_option('mode.chained_assignment', None)"
   ]
  },
  {
   "cell_type": "markdown",
   "metadata": {},
   "source": [
    "#### preambles"
   ]
  },
  {
   "cell_type": "code",
   "execution_count": 28,
   "metadata": {
    "ExecuteTime": {
     "end_time": "2019-06-10T19:42:41.417296Z",
     "start_time": "2019-06-10T19:42:41.410054Z"
    }
   },
   "outputs": [],
   "source": [
    "# observables = ['xgdp_q_obs_frbedo', 'pgdp_q_obs_frbedo', 'rff_q_obs_frbedo', 'pecnn_q_obs_frbedo', 'pecd_q_obs_frbedo',\n",
    "#                'per_q_obs_frbedo', 'penr_q_obs_frbedo', 'paipc_q_obs_frbedo', 'paipk_q_obs_frbedo', 'hours_obs_frbedo',\n",
    "#                'wage_obs_frbedo', 'dlnl_q_obs']\n",
    "# observables = ['dlnl_q_obs']\n",
    "observables = ['dlndin_obs']"
   ]
  },
  {
   "cell_type": "markdown",
   "metadata": {},
   "source": [
    "#### declare observables in 'List_Observables_US.xls'"
   ]
  },
  {
   "cell_type": "code",
   "execution_count": 6,
   "metadata": {
    "ExecuteTime": {
     "end_time": "2019-06-10T19:33:26.326392Z",
     "start_time": "2019-06-10T19:33:26.254350Z"
    }
   },
   "outputs": [],
   "source": [
    "filepath = '../../EstimationInterface/List_Observables_US.xls'\n",
    "list_obs = pd.read_excel(filepath, sheet_name=['q', 'a'])"
   ]
  },
  {
   "cell_type": "code",
   "execution_count": 7,
   "metadata": {
    "ExecuteTime": {
     "end_time": "2019-06-10T19:33:26.470737Z",
     "start_time": "2019-06-10T19:33:26.448307Z"
    }
   },
   "outputs": [],
   "source": [
    "numbers = list(range(list_obs['q'].shape[0], list_obs['q'].shape[0]+len(observables)))\n",
    "newlist_obs = pd.DataFrame(np.transpose([numbers, observables, observables]), columns=list_obs['q'].columns)\n",
    "list_obs['q'] = pd.concat([list_obs['q'], newlist_obs])"
   ]
  },
  {
   "cell_type": "code",
   "execution_count": 8,
   "metadata": {
    "ExecuteTime": {
     "end_time": "2019-06-10T19:33:26.635600Z",
     "start_time": "2019-06-10T19:33:26.628393Z"
    }
   },
   "outputs": [],
   "source": [
    "def to_integer(x):\n",
    "    '''Convert anything to integer wherever possible'''\n",
    "    try:\n",
    "        return int(x)\n",
    "    except:\n",
    "        x"
   ]
  },
  {
   "cell_type": "code",
   "execution_count": 9,
   "metadata": {
    "ExecuteTime": {
     "end_time": "2019-06-10T19:33:26.841395Z",
     "start_time": "2019-06-10T19:33:26.828599Z"
    }
   },
   "outputs": [],
   "source": [
    "list_obs['q']['Number'] = list_obs['q']['Number'].map(lambda x: to_integer(x))"
   ]
  },
  {
   "cell_type": "code",
   "execution_count": 10,
   "metadata": {
    "ExecuteTime": {
     "end_time": "2019-06-10T19:33:27.361409Z",
     "start_time": "2019-06-10T19:33:27.245087Z"
    }
   },
   "outputs": [],
   "source": [
    "writer = pd.ExcelWriter('test.xls')"
   ]
  },
  {
   "cell_type": "code",
   "execution_count": 11,
   "metadata": {
    "ExecuteTime": {
     "end_time": "2019-06-10T19:33:27.604253Z",
     "start_time": "2019-06-10T19:33:27.561746Z"
    }
   },
   "outputs": [],
   "source": [
    "for key, _ in list_obs.items():\n",
    "    list_obs[key].to_excel(writer, sheet_name=key, index=False)"
   ]
  },
  {
   "cell_type": "code",
   "execution_count": 12,
   "metadata": {
    "ExecuteTime": {
     "end_time": "2019-06-10T19:33:27.868529Z",
     "start_time": "2019-06-10T19:33:27.846821Z"
    }
   },
   "outputs": [],
   "source": [
    "writer.save()"
   ]
  },
  {
   "cell_type": "markdown",
   "metadata": {},
   "source": [
    "#### load raw data"
   ]
  },
  {
   "cell_type": "code",
   "execution_count": 13,
   "metadata": {
    "ExecuteTime": {
     "end_time": "2019-06-10T19:33:28.885046Z",
     "start_time": "2019-06-10T19:33:28.764048Z"
    }
   },
   "outputs": [],
   "source": [
    "df_alfred = pd.read_csv('alfred_raw.csv', index_col=0)\n",
    "df_spf = pd.read_csv('spf_raw.csv', index_col=0)"
   ]
  },
  {
   "cell_type": "code",
   "execution_count": 14,
   "metadata": {
    "ExecuteTime": {
     "end_time": "2019-06-10T19:33:29.265291Z",
     "start_time": "2019-06-10T19:33:29.224861Z"
    }
   },
   "outputs": [],
   "source": [
    "# set date as the index\n",
    "df_alfred.set_index('date', inplace=True)\n",
    "df_spf.set_index('date', inplace=True)\n",
    "# create multiindex columns\n",
    "df_alfred.columns = pd.MultiIndex.from_arrays([[column[:-7] for column in df_alfred.columns], [column[-6:] for column in df_alfred.columns]])"
   ]
  },
  {
   "cell_type": "code",
   "execution_count": 15,
   "metadata": {
    "ExecuteTime": {
     "end_time": "2019-06-10T19:33:29.779022Z",
     "start_time": "2019-06-10T19:33:29.768471Z"
    }
   },
   "outputs": [],
   "source": [
    "# GDPC1 nowcast = RGDP2\n",
    "# GDPCTPI nowcast = PGDP2\n",
    "# PRFI nowcast = RRESINV2(t)*GDPCTPI(t)/RRESINV2(t-1)/GDPCTPI(t-1)*PRFI(t-1)"
   ]
  },
  {
   "cell_type": "code",
   "execution_count": 19,
   "metadata": {
    "ExecuteTime": {
     "end_time": "2019-06-10T19:33:49.199924Z",
     "start_time": "2019-06-10T19:33:49.183879Z"
    }
   },
   "outputs": [],
   "source": [
    "df_alfredspf = df_alfred.copy()\n",
    "# for index in df_alfredspf.index:\n",
    "#     if int(index.replace(':Q','')) >= 19684:\n",
    "#         df_alfredspf.loc[index, ('GDPC1', index.replace(':', ''))] = df_spf.loc[index, 'RGDP2']\n",
    "#         df_alfredspf.loc[index, ('GDPCTPI', index.replace(':', ''))] = df_spf.loc[index, 'PGDP2']\n",
    "        \n",
    "#     if int(index.replace(':Q','')) >= 19814:\n",
    "#         A = df_spf.loc[index, 'RRESINV2']*df_alfredspf.loc[index, ('GDPCTPI', index.replace(':', ''))]\n",
    "#         B = df_spf.loc[index, 'RRESINV1']*df_alfredspf.loc[last_index, ('GDPCTPI', index.replace(':', ''))]\n",
    "#         C = df_alfredspf.loc[last_index, ('PRFI', index.replace(':', ''))]\n",
    "#         prfi_nowcast = A/B*C\n",
    "#         df_alfredspf.loc[index, ('PRFI', index.replace(':', ''))] = prfi_nowcast\n",
    "        \n",
    "#         A = df_spf.loc[index, 'RNRESIN2']*df_alfredspf.loc[index, ('GDPCTPI', index.replace(':', ''))]\n",
    "#         B = df_spf.loc[index, 'RNRESIN1']*df_alfredspf.loc[last_index, ('GDPCTPI', index.replace(':', ''))]\n",
    "#         C = df_alfredspf.loc[last_index, ('PNFI', index.replace(':', ''))]\n",
    "#         pnfi_nowcast = A/B*C\n",
    "#         df_alfredspf.loc[index, ('PNFI', index.replace(':', ''))] = pnfi_nowcast\n",
    "        \n",
    "#     last_index = index"
   ]
  },
  {
   "cell_type": "markdown",
   "metadata": {},
   "source": [
    "#### transform data and generate observables"
   ]
  },
  {
   "cell_type": "code",
   "execution_count": 17,
   "metadata": {
    "ExecuteTime": {
     "end_time": "2019-06-10T19:33:31.078205Z",
     "start_time": "2019-06-10T19:33:31.062141Z"
    }
   },
   "outputs": [],
   "source": [
    "# PECNN = [PCND(t) + PCESV(t)]/[PCNDGC96(t) + PCESVC96(t)]\n",
    "# PECD = PCDG(t)/PCDGCC96(t)\n",
    "# HOURS = AWHNONAG(t)*CE16OV(t)/CNP16OV(t)\n",
    "\n",
    "# xgdp_q_obs_frbedo = GDPC1(t)/GDPC1(t-1)\n",
    "# pgdp_q_obs_frbedo = GDPCTPI(t)/GDPCTPI(t-1)\n",
    "# rff_q_obs_frbedo = FEDFUNDS(t)/400 + 1\n",
    "# pecnn_q_obs_frbedo = [PCND(t) + PCESV(t)]/[PCND(t-1) + PCESV(t-1)]\n",
    "# pecd_q_obs_frbedo = PCDG(t)/PCDG(t-1)\n",
    "# per_q_obs_frbedo = PRFI(t)/PRFI(t-1)\n",
    "# penr_q_obs_frbedo = PNFI(t)/PNFI(t-1)\n",
    "# paipc_q_obs_frbedo = PECNN(t) / PECNN(t-1)\n",
    "# paipk_q_obs_frbedo = PECD(t) / PECD(t-1)\n",
    "# hours_obs_frbedo = HOURS(t) / AVERAGE(HOURS, 1968Q1-most recent observation)\n",
    "# wage_obs_frbedo = [COMPNFB(t) / GDPCTPI(t)] / [COMPNFB(t-1) / GDPCTPI(t-1)]"
   ]
  },
  {
   "cell_type": "code",
   "execution_count": 21,
   "metadata": {
    "ExecuteTime": {
     "end_time": "2019-06-10T19:34:14.580038Z",
     "start_time": "2019-06-10T19:34:05.146968Z"
    }
   },
   "outputs": [
    {
     "data": {
      "application/vnd.jupyter.widget-view+json": {
       "model_id": "8c8a477b08a4407ea8adc03f78854d09",
       "version_major": 2,
       "version_minor": 0
      },
      "text/plain": [
       "HBox(children=(IntProgress(value=0, max=289), HTML(value='')))"
      ]
     },
     "metadata": {},
     "output_type": "display_data"
    },
    {
     "name": "stdout",
     "output_type": "stream",
     "text": [
      "\n"
     ]
    }
   ],
   "source": [
    "vintages = sorted(set(df_alfredspf.columns.get_level_values(1)))\n",
    "for index, vintage in tqdm_notebook(enumerate(vintages), total=len(vintages)):\n",
    "    \n",
    "    # load vintage\n",
    "    vdf = df_alfredspf.xs(vintage, axis=1, level=1)\n",
    "    \n",
    "#     # generate intermediate series\n",
    "#     vdf.loc[:, 'PECNN'] = (vdf['PCND'].values + vdf['PCESV'].values) / (vdf['PCNDGC96'].values + vdf['PCESVC96'].values)\n",
    "#     vdf.loc[:, 'PECD'] = vdf['PCDG'].values / vdf['PCDGCC96'].values\n",
    "#     vdf.loc[:, 'HOURS'] = vdf['AWHNONAG'].values * vdf['CE16OV'].values / vdf['CNP16OV'].values\n",
    "    \n",
    "#     # generate observed series\n",
    "#     vdf.loc[:, 'xgdp_q_obs_frbedo'] = vdf['GDPC1'].values/vdf['GDPC1'].shift().values\n",
    "#     vdf.loc[:, 'pgdp_q_obs_frbedo'] = vdf['GDPCTPI'].values/vdf['GDPCTPI'].shift().values\n",
    "#     vdf.loc[:, 'rff_q_obs_frbedo'] = vdf['FEDFUNDS'].values/400 + 1\n",
    "#     vdf.loc[:, 'pecnn_q_obs_frbedo'] = (vdf['PCND'].values + vdf['PCESV'].values) / (vdf['PCND'].shift().values + vdf['PCESV'].shift().values)\n",
    "#     vdf.loc[:, 'pecd_q_obs_frbedo'] = vdf['PCDG'].values/vdf['PCDG'].shift().values\n",
    "#     vdf.loc[:, 'per_q_obs_frbedo'] = vdf['PRFI'].values/vdf['PRFI'].shift().values\n",
    "#     vdf.loc[:, 'penr_q_obs_frbedo'] = vdf['PNFI'].values/vdf['PNFI'].shift().values\n",
    "#     vdf.loc[:, 'paipc_q_obs_frbedo'] = vdf['PECNN'].values/vdf['PECNN'].shift().values\n",
    "#     vdf.loc[:, 'paipk_q_obs_frbedo'] = vdf['PECD'].values/vdf['PECD'].shift().values\n",
    "#     vdf.loc[:, 'hours_obs_frbedo'] = vdf['HOURS'].values/vdf.loc['1968:Q1':, 'HOURS'].mean()\n",
    "#     vdf.loc[:, 'wage_obs_frbedo'] = (vdf['COMPNFB'].values/vdf['GDPCTPI'].values) / (vdf['COMPNFB'].shift().values/vdf['GDPCTPI'].shift().values)\n",
    "#     vdf.loc[:, 'dlnl_obs'] = np.log(vdf['BCNSDODNS'].values/vdf['BCNSDODNS'].shift().values)\n",
    "    vdf.loc[:, 'dlndin_obs'] = np.log(vdf['ASHMA'].values/vdf['ASHMA'].shift().values)\n",
    "    \n",
    "    # merge\n",
    "    vdf.columns = pd.MultiIndex.from_arrays([vdf.columns, [vintage]*vdf.shape[1]])\n",
    "    vdf.reset_index(drop=False, inplace=True)\n",
    "    df = vdf if index == 0 else pd.merge(df, vdf, on='date')"
   ]
  },
  {
   "cell_type": "code",
   "execution_count": 22,
   "metadata": {
    "ExecuteTime": {
     "end_time": "2019-06-10T19:34:23.706473Z",
     "start_time": "2019-06-10T19:34:23.662232Z"
    },
    "scrolled": true
   },
   "outputs": [],
   "source": [
    "# set date as the index\n",
    "df.set_index('date', inplace=True)"
   ]
  },
  {
   "cell_type": "code",
   "execution_count": 23,
   "metadata": {
    "ExecuteTime": {
     "end_time": "2019-06-10T19:34:25.268288Z",
     "start_time": "2019-06-10T19:34:25.237250Z"
    }
   },
   "outputs": [],
   "source": [
    "dropped_columns = []\n",
    "for year in range(1947, 1965+1):\n",
    "    for quarter in range(1, 4+1):\n",
    "        dropped_columns.append(str(year)+'Q'+str(quarter))\n",
    "dropped_columns.remove('1965Q4')"
   ]
  },
  {
   "cell_type": "markdown",
   "metadata": {},
   "source": [
    "#### with SPF nowcast"
   ]
  },
  {
   "cell_type": "code",
   "execution_count": 24,
   "metadata": {
    "ExecuteTime": {
     "end_time": "2019-06-10T19:34:26.320600Z",
     "start_time": "2019-06-10T19:34:26.305038Z"
    }
   },
   "outputs": [],
   "source": [
    "df_nowcast = df.copy()"
   ]
  },
  {
   "cell_type": "code",
   "execution_count": 29,
   "metadata": {
    "ExecuteTime": {
     "end_time": "2019-06-10T19:42:55.394384Z",
     "start_time": "2019-06-10T19:42:46.394524Z"
    }
   },
   "outputs": [
    {
     "data": {
      "application/vnd.jupyter.widget-view+json": {
       "model_id": "d01c1e7f0de7425cb6485ac658d0e248",
       "version_major": 2,
       "version_minor": 0
      },
      "text/plain": [
       "HBox(children=(IntProgress(value=0, max=1), HTML(value='')))"
      ]
     },
     "metadata": {},
     "output_type": "display_data"
    },
    {
     "name": "stdout",
     "output_type": "stream",
     "text": [
      "\n"
     ]
    }
   ],
   "source": [
    "for observable in tqdm_notebook(observables):\n",
    "    df_obs = df_nowcast[observable]\n",
    "    df_obs.drop(dropped_columns, axis=1, inplace=True)\n",
    "    df_obs.drop(['1947:Q1'], inplace=True)\n",
    "    df_obs.fillna(-99, inplace=True)\n",
    "    for index, row in df_obs.iterrows():\n",
    "        current_date = int(index.replace(':Q', ''))\n",
    "        for column in df_obs.columns.values:\n",
    "            if int(column.replace('Q', '')) <= current_date and row[column] == -99:\n",
    "                df_obs.loc[index, column] = -999\n",
    "    df_obs.columns = [observable + vintage[-4:] for vintage in df_obs.columns]\n",
    "    df_obs.index.name = 'DATE'\n",
    "    path = '../../DATA/USDATA/Tranformed_Data_SPF/'\n",
    "    df_obs.to_excel(path + observable + '.xls')"
   ]
  },
  {
   "cell_type": "markdown",
   "metadata": {},
   "source": [
    "#### without SPF nowcast"
   ]
  },
  {
   "cell_type": "code",
   "execution_count": 30,
   "metadata": {
    "ExecuteTime": {
     "end_time": "2019-06-10T19:42:55.418587Z",
     "start_time": "2019-06-10T19:42:55.404018Z"
    }
   },
   "outputs": [],
   "source": [
    "df_nonowcast = df.copy()"
   ]
  },
  {
   "cell_type": "code",
   "execution_count": 31,
   "metadata": {
    "ExecuteTime": {
     "end_time": "2019-06-10T19:42:55.562891Z",
     "start_time": "2019-06-10T19:42:55.423239Z"
    }
   },
   "outputs": [],
   "source": [
    "for index in df_nonowcast.index:\n",
    "    for observable in observables:\n",
    "        df_nonowcast.loc[index, (observable, index.replace(':', ''))] = float('nan')"
   ]
  },
  {
   "cell_type": "code",
   "execution_count": 32,
   "metadata": {
    "ExecuteTime": {
     "end_time": "2019-06-10T19:43:04.870279Z",
     "start_time": "2019-06-10T19:42:55.567991Z"
    }
   },
   "outputs": [
    {
     "data": {
      "application/vnd.jupyter.widget-view+json": {
       "model_id": "cc0b7c2b052244f58dab68ff6c9bdc43",
       "version_major": 2,
       "version_minor": 0
      },
      "text/plain": [
       "HBox(children=(IntProgress(value=0, max=1), HTML(value='')))"
      ]
     },
     "metadata": {},
     "output_type": "display_data"
    },
    {
     "name": "stdout",
     "output_type": "stream",
     "text": [
      "\n"
     ]
    }
   ],
   "source": [
    "for observable in tqdm_notebook(observables):\n",
    "    df_obs = df_nonowcast[observable]\n",
    "    df_obs.drop(dropped_columns, axis=1, inplace=True)\n",
    "    df_obs.drop(['1947:Q1'], inplace=True)\n",
    "    df_obs.fillna(-99, inplace=True)\n",
    "    for index, row in df_obs.iterrows():\n",
    "        current_date = int(index.replace(':Q', ''))\n",
    "        for column in df_obs.columns.values:\n",
    "            if int(column.replace('Q', '')) <= current_date and row[column] == -99:\n",
    "                df_obs.loc[index, column] = -999\n",
    "    df_obs.columns = [observable + vintage[-4:] for vintage in df_obs.columns]\n",
    "    df_obs.index.name = 'DATE'\n",
    "    path = '../../DATA/USDATA/Tranformed_Data/'\n",
    "    df_obs.to_excel(path + observable + '.xls')"
   ]
  },
  {
   "cell_type": "code",
   "execution_count": null,
   "metadata": {
    "scrolled": false
   },
   "outputs": [],
   "source": [
    "# # observations that have current-period values\n",
    "# for rowindex, row in df.iterrows():\n",
    "#     for colindex, value in row[:, rowindex.replace(':', '')].items():\n",
    "#         if colindex.endswith('frbedo') and not np.isnan(value):\n",
    "#             print(f'{colindex}: {value}')"
   ]
  }
 ],
 "metadata": {
  "kernelspec": {
   "display_name": "Python 3",
   "language": "python",
   "name": "python3"
  },
  "language_info": {
   "codemirror_mode": {
    "name": "ipython",
    "version": 3
   },
   "file_extension": ".py",
   "mimetype": "text/x-python",
   "name": "python",
   "nbconvert_exporter": "python",
   "pygments_lexer": "ipython3",
   "version": "3.6.8"
  }
 },
 "nbformat": 4,
 "nbformat_minor": 2
}
