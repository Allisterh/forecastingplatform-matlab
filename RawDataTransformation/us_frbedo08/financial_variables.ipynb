{
 "cells": [
  {
   "cell_type": "code",
   "execution_count": 16,
   "metadata": {
    "ExecuteTime": {
     "end_time": "2019-07-21T22:15:11.925279Z",
     "start_time": "2019-07-21T22:15:11.918695Z"
    }
   },
   "outputs": [],
   "source": [
    "import requests, re\n",
    "import pandas as pd\n",
    "import numpy as np\n",
    "from datetime import datetime\n",
    "from tqdm import tqdm_notebook\n",
    "import matplotlib.pyplot as plt\n",
    "pd.set_option('max_rows', 300)"
   ]
  },
  {
   "cell_type": "markdown",
   "metadata": {},
   "source": [
    "### Timing of the SPF nowcast"
   ]
  },
  {
   "cell_type": "code",
   "execution_count": 7,
   "metadata": {
    "ExecuteTime": {
     "end_time": "2019-07-21T22:09:36.333416Z",
     "start_time": "2019-07-21T22:09:35.667913Z"
    }
   },
   "outputs": [
    {
     "name": "stderr",
     "output_type": "stream",
     "text": [
      "/Users/zexisun/anaconda3/lib/python3.6/site-packages/urllib3/connectionpool.py:847: InsecureRequestWarning: Unverified HTTPS request is being made. Adding certificate verification is strongly advised. See: https://urllib3.readthedocs.io/en/latest/advanced-usage.html#ssl-warnings\n",
      "  InsecureRequestWarning)\n"
     ]
    }
   ],
   "source": [
    "url = 'https://www.philadelphiafed.org/-/media/research-and-data/real-time-center/survey-of-professional-forecasters/spf-release-dates.txt'\n",
    "page = requests.get(url, verify=False)\n",
    "page = page.content.decode('utf-8') # decode the txt file\n",
    "page = page[re.search('(?<=\\n)1990', page).start():re.search('\\*The', page).start()] # remove textual information\n",
    "page = page.replace('\\r\\n', '\\n').replace('\\r', '\\n').replace('\\t', ' ').replace(' Q', ':Q').replace('*', '') # formatting the table\n",
    "page = re.sub(' {2,}', ' ', page) # remove multiple whitespaces"
   ]
  },
  {
   "cell_type": "code",
   "execution_count": 19,
   "metadata": {
    "ExecuteTime": {
     "end_time": "2019-07-21T22:15:48.765764Z",
     "start_time": "2019-07-21T22:15:48.683489Z"
    }
   },
   "outputs": [],
   "source": [
    "df_spftiming = pd.DataFrame([[entry for entry in row.split(' ') if len(entry)>1] for row in page.split('\\n') if len(row)>1]) # convert to DataFrame\n",
    "df_spftiming.columns = ['DATE', 'deadlines', 'releases'] # name columns\n",
    "df_spftiming = df_spftiming[['DATE', 'deadlines']] # keep only surveys and deadlines, and drop release dates\n",
    "\n",
    "df_spftiming['deadlines'] = pd.to_datetime(df_spftiming['deadlines'], format='%m/%d/%y') # convert deadlines to datetime format\n",
    "\n",
    "# make sure all survey quarter entries have a year in front\n",
    "DATE = []\n",
    "for date in df_spftiming['DATE']:\n",
    "    year = re.search('[0-9]{4}', date)\n",
    "    if year:\n",
    "        lastyear = year.group(0)\n",
    "    else:\n",
    "        date = lastyear+date\n",
    "    DATE.append(int(date.replace(':Q', '')))\n",
    "df_spftiming['DATE'] = DATE"
   ]
  },
  {
   "cell_type": "code",
   "execution_count": 20,
   "metadata": {
    "ExecuteTime": {
     "end_time": "2019-07-21T22:15:49.281815Z",
     "start_time": "2019-07-21T22:15:49.088918Z"
    }
   },
   "outputs": [],
   "source": [
    "deadline_day = 15 # round(df_spftiming['deadlines'].map(lambda x: x.day).mean())\n",
    "\n",
    "date_begin = 19684\n",
    "date_end = 19901\n",
    "\n",
    "date = date_begin\n",
    "while date <= date_end:\n",
    "    quarter = date % 10\n",
    "    year = date // 10\n",
    "    df_spftiming.loc[df_spftiming.shape[0], :] = [date, datetime(year, quarter*3-1, deadline_day)]\n",
    "    date = date + 10 - 4 + 1 if quarter == 4 else date + 1\n",
    "\n",
    "df_spftiming['DATE'] = df_spftiming['DATE'].map(lambda x: int(x))\n",
    "df_spftiming.sort_values(by='DATE', inplace=True)\n",
    "df_spftiming.reset_index(drop=True, inplace=True)"
   ]
  },
  {
   "cell_type": "code",
   "execution_count": 32,
   "metadata": {
    "ExecuteTime": {
     "end_time": "2019-07-21T22:20:11.818531Z",
     "start_time": "2019-07-21T22:20:11.479090Z"
    }
   },
   "outputs": [
    {
     "data": {
      "text/plain": [
       "<matplotlib.axes._subplots.AxesSubplot at 0x11cbc3630>"
      ]
     },
     "execution_count": 32,
     "metadata": {},
     "output_type": "execute_result"
    },
    {
     "data": {
      "image/png": "[encoded data removed]",
      "text/plain": [
       "<Figure size 432x288 with 1 Axes>"
      ]
     },
     "metadata": {
      "needs_background": "light"
     },
     "output_type": "display_data"
    }
   ],
   "source": [
    "temp = df_spftiming.copy()\n",
    "temp['vintage quarter'] = temp['DATE']\n",
    "temp['day of month'] = temp['deadlines'].map(lambda x: x.day)\n",
    "temp.plot(x='vintage quarter', y='day of month')"
   ]
  },
  {
   "cell_type": "markdown",
   "metadata": {
    "ExecuteTime": {
     "end_time": "2019-07-21T13:46:59.453342Z",
     "start_time": "2019-07-21T13:46:59.412557Z"
    }
   },
   "source": [
    "### Retreive financial variables from FRED (no revision)"
   ]
  },
  {
   "cell_type": "code",
   "execution_count": 133,
   "metadata": {
    "ExecuteTime": {
     "end_time": "2019-07-22T00:26:16.544007Z",
     "start_time": "2019-07-22T00:26:16.537377Z"
    }
   },
   "outputs": [],
   "source": [
    "params = {'api_key': '583d28835966b0340e377c34a107da91', 'file_type': 'json', 'observation_start': '1947-01-01'}\n",
    "url = 'https://api.stlouisfed.org/fred/series/observations'"
   ]
  },
  {
   "cell_type": "code",
   "execution_count": 134,
   "metadata": {
    "ExecuteTime": {
     "end_time": "2019-07-22T00:26:17.253449Z",
     "start_time": "2019-07-22T00:26:17.247067Z"
    }
   },
   "outputs": [],
   "source": [
    "financial_variables = ['DBAA', # Moody's Baa Corporate Bond Yield, daily, %, no SA, from 1986-01-02\n",
    "                       'WBAA', # Moody's Baa Corporate Bond Yield, weekly, %, no SA, from 1962-01-05\n",
    "                       'BAA', # Moody's Baa Corporate Bond Yield, monthly, %, no SA, from 1919-01-01\n",
    "                       \n",
    "                       'DGS10', # 10-Year Treasury Constant Maturity Rate, daily, %, no SA, from 1962-01-02\n",
    "                       'WGS10YR', # 10-Year Treasury Constant Maturity Rate, weekly, %, no SA, from 1962-01-05\n",
    "                       'GS10', # 10-Year Treasury Constant Maturity Rate, monthly, %, no SA, from 1953-04-01\n",
    "                       \n",
    "                       'BAA10Y', # Baa Corporate Bond Yield - Yield on 10-Year Treasury, daily, %, noSA, from 1986-01-02 (for sanity check)\n",
    "                       'BAA10YM', # Baa Corporate Bond Yield - Yield on 10-Year Treasury, monthly, %, noSA, from 1953-04-01 (for sanity check)\n",
    "                       \n",
    "                       'DFF', # Effective Federal Funds Rate, daily, %, no SA, from 1954-07-01\n",
    "                      ]"
   ]
  },
  {
   "cell_type": "code",
   "execution_count": 135,
   "metadata": {
    "ExecuteTime": {
     "end_time": "2019-07-22T00:26:18.183895Z",
     "start_time": "2019-07-22T00:26:18.174947Z"
    }
   },
   "outputs": [],
   "source": [
    "def float_or_nan(x):\n",
    "    '''Convert a string to either a float number or NaN'''\n",
    "    try:\n",
    "        return float(x)\n",
    "    except:\n",
    "        return float('nan')"
   ]
  },
  {
   "cell_type": "code",
   "execution_count": 136,
   "metadata": {
    "ExecuteTime": {
     "end_time": "2019-07-22T00:26:23.895680Z",
     "start_time": "2019-07-22T00:26:19.565834Z"
    }
   },
   "outputs": [
    {
     "data": {
      "application/vnd.jupyter.widget-view+json": {
       "model_id": "31ae34c8065a4a1e8f69888c49f2cb0b",
       "version_major": 2,
       "version_minor": 0
      },
      "text/plain": [
       "HBox(children=(IntProgress(value=0, max=9), HTML(value='')))"
      ]
     },
     "metadata": {},
     "output_type": "display_data"
    },
    {
     "name": "stdout",
     "output_type": "stream",
     "text": [
      "\n"
     ]
    }
   ],
   "source": [
    "for varindex, varname in tqdm_notebook(enumerate(financial_variables), total=len(financial_variables)):\n",
    "    \n",
    "    # retreive series from FRED\n",
    "    params.update({'series_id': varname})\n",
    "    page = requests.get(url, params=params, timeout=20)\n",
    "    assert page.status_code == 200, f'Cannot download {varname} series, check request'\n",
    "    \n",
    "    # convert data type from JSON -> DataFrame\n",
    "    # convert values from string -> float, convert dates from string -> datetime\n",
    "    observations = pd.DataFrame(page.json()['observations'])\n",
    "    observations['value'] = observations['value'].map(lambda x: float_or_nan(x))\n",
    "    observations['date'] = pd.to_datetime(observations['date'])\n",
    "    \n",
    "    # assert realtime_start = realtime_end = today\n",
    "    realtime = set(observations['realtime_start']).union(set(observations['realtime_end']))\n",
    "    assert len(realtime) == 1, f'Multiple realtimes exist:\\n{realtime}'\n",
    "    # assert list(realtime)[0] == datetime.today().strftime('%Y-%m-%d'), f'Realtime not today'\n",
    "    \n",
    "    # drop realtime_start and realtime_end\n",
    "    observations.drop(['realtime_end', 'realtime_start'], axis=1, inplace=True)\n",
    "    \n",
    "    # rename columns and merge all DataFrames\n",
    "    observations.columns = ['dates', varname]\n",
    "    df_fred = observations if varindex == 0 else pd.merge(df_fred, observations, on='dates', how='outer')"
   ]
  },
  {
   "cell_type": "code",
   "execution_count": 137,
   "metadata": {
    "ExecuteTime": {
     "end_time": "2019-07-22T00:26:48.524147Z",
     "start_time": "2019-07-22T00:26:24.341218Z"
    }
   },
   "outputs": [
    {
     "data": {
      "application/vnd.jupyter.widget-view+json": {
       "model_id": "e672ed1d9e4e497a8ddc664821241fbe",
       "version_major": 2,
       "version_minor": 0
      },
      "text/plain": [
       "HBox(children=(IntProgress(value=0, max=26497), HTML(value='')))"
      ]
     },
     "metadata": {},
     "output_type": "display_data"
    },
    {
     "name": "stdout",
     "output_type": "stream",
     "text": [
      "\n"
     ]
    }
   ],
   "source": [
    "existingdates = set(df_fred['dates'])\n",
    "alldates = pd.date_range(start=min(df_fred['dates']), end=max(df_fred['dates']))\n",
    "for date in tqdm_notebook(alldates):\n",
    "    if not date in existingdates:\n",
    "        df_fred.loc[df_fred.shape[0], :] = [date] + [float('nan') for i in range(len(df_fred.columns) - 1)]"
   ]
  },
  {
   "cell_type": "code",
   "execution_count": 138,
   "metadata": {
    "ExecuteTime": {
     "end_time": "2019-07-22T00:26:53.227361Z",
     "start_time": "2019-07-22T00:26:53.215663Z"
    }
   },
   "outputs": [],
   "source": [
    "df_fred.sort_values(by='dates', inplace=True)\n",
    "df_fred.reset_index(drop=True, inplace=True)"
   ]
  },
  {
   "cell_type": "markdown",
   "metadata": {},
   "source": [
    "### Pre-process financial variables"
   ]
  },
  {
   "cell_type": "code",
   "execution_count": 139,
   "metadata": {
    "ExecuteTime": {
     "end_time": "2019-07-22T00:26:53.918302Z",
     "start_time": "2019-07-22T00:26:53.898635Z"
    }
   },
   "outputs": [
    {
     "name": "stdout",
     "output_type": "stream",
     "text": [
      "The maximal difference between DBAA-DGS10 and BAA10Y is 1.7764e-15.\n",
      "The maximal difference between BAA-GS10 and BAA10YM is 2.4425e-15.\n"
     ]
    }
   ],
   "source": [
    "# Sanity checks\n",
    "print(f\"The maximal difference between DBAA-DGS10 and BAA10Y is {np.nanmax(abs(df_fred['DBAA'] - df_fred['DGS10'] - df_fred['BAA10Y'])):.4e}.\")\n",
    "print(f\"The maximal difference between BAA-GS10 and BAA10YM is {np.nanmax(abs(df_fred['BAA'] - df_fred['GS10'] - df_fred['BAA10YM'])):.4e}.\")\n",
    "      \n",
    "# rename BAA10Y -> DBAA10Y, BAA10YM -> MBAA10Y\n",
    "df_fred.rename({'BAA10Y': 'DBAA10Y'}, axis=1, inplace=True)\n",
    "df_fred.rename({'BAA10YM': 'MBAA10Y'}, axis=1, inplace=True)"
   ]
  },
  {
   "cell_type": "code",
   "execution_count": 140,
   "metadata": {
    "ExecuteTime": {
     "end_time": "2019-07-22T00:26:55.372703Z",
     "start_time": "2019-07-22T00:26:55.355603Z"
    }
   },
   "outputs": [
    {
     "name": "stdout",
     "output_type": "stream",
     "text": [
      "The maximal difference between daily and weekly BAA10Y is 0.3800.\n",
      "The maximal difference between daily and monthly BAA10Y is 0.9700.\n"
     ]
    }
   ],
   "source": [
    "# define WBAA10Y\n",
    "df_fred['WBAA10Y'] = df_fred['WBAA'] - df_fred['WGS10YR']\n",
    "\n",
    "# sanity checks\n",
    "print(f\"The maximal difference between daily and weekly BAA10Y is {np.nanmax(abs(df_fred['DBAA10Y'] - df_fred['WBAA10Y'])):.4f}.\")\n",
    "print(f\"The maximal difference between daily and monthly BAA10Y is {np.nanmax(abs(df_fred['DBAA10Y'] - df_fred['MBAA10Y'])):.4f}.\") "
   ]
  },
  {
   "cell_type": "markdown",
   "metadata": {
    "ExecuteTime": {
     "end_time": "2019-07-21T23:48:24.274524Z",
     "start_time": "2019-07-21T23:48:24.082832Z"
    }
   },
   "source": [
    "### Generate past period values"
   ]
  },
  {
   "cell_type": "code",
   "execution_count": 141,
   "metadata": {
    "ExecuteTime": {
     "end_time": "2019-07-22T00:26:57.841288Z",
     "start_time": "2019-07-22T00:26:57.830283Z"
    }
   },
   "outputs": [],
   "source": [
    "fredtoobs = {'MBAA10Y': 'cp_q_obsBaaT10', 'DFF': 'rff_q_obs'}\n",
    "df_pastvalues = pd.DataFrame(columns=['DATE'] + list(fredtoobs.values()))"
   ]
  },
  {
   "cell_type": "code",
   "execution_count": 142,
   "metadata": {
    "ExecuteTime": {
     "end_time": "2019-07-22T00:26:58.487549Z",
     "start_time": "2019-07-22T00:26:58.315963Z"
    }
   },
   "outputs": [],
   "source": [
    "indices_startofmonth = list(df_fred.index[df_fred['dates'].map(lambda x: x.day == 1 and x.month in {1, 4, 7, 10})])\n",
    "dates_startofmonth = list(df_fred[df_fred['dates'].map(lambda x: x.day == 1 and x.month in {1, 4, 7, 10})]['dates'])"
   ]
  },
  {
   "cell_type": "code",
   "execution_count": 143,
   "metadata": {
    "ExecuteTime": {
     "end_time": "2019-07-22T00:26:59.313464Z",
     "start_time": "2019-07-22T00:26:58.816550Z"
    }
   },
   "outputs": [],
   "source": [
    "assert len(indices_startofmonth) == len(dates_startofmonth)\n",
    "for i in range(len(indices_startofmonth)):\n",
    "    D = dates_startofmonth[i]\n",
    "    D = D.year*10 + D.quarter\n",
    "    values = []\n",
    "    for fred_name, _ in fredtoobs.items():\n",
    "        if i < len(indices_startofmonth) - 1 and fred_name in {'MBAA10Y', 'DFF'}:\n",
    "            values.append(df_fred.loc[indices_startofmonth[i]:indices_startofmonth[i+1], fred_name].mean()/4)\n",
    "        elif fred_name in {'MBAA10Y', 'DFF'}:\n",
    "            values.append(df_fred.loc[indices_startofmonth[i]:, fred_name].mean()/4)\n",
    "        else:\n",
    "            raise Exception('New financial variables are introduced. Should it be divided by four?')\n",
    "    df_pastvalues.loc[df_pastvalues.shape[0], :] = [D] + values"
   ]
  },
  {
   "cell_type": "markdown",
   "metadata": {
    "ExecuteTime": {
     "end_time": "2019-07-21T16:03:28.908035Z",
     "start_time": "2019-07-21T16:03:28.855361Z"
    }
   },
   "source": [
    "### Generate current period values"
   ]
  },
  {
   "cell_type": "code",
   "execution_count": 194,
   "metadata": {
    "ExecuteTime": {
     "end_time": "2019-07-22T00:41:21.549917Z",
     "start_time": "2019-07-22T00:41:21.497393Z"
    }
   },
   "outputs": [],
   "source": [
    "columns_toadd = ['DBAA10Y', 'WBAA10Y', 'DFF']\n",
    "df_currentvalues = df_fred[['dates'] + columns_toadd].copy()\n",
    "df_currentvalues = pd.merge(df_currentvalues, df_spftiming, left_on='dates', right_on='deadlines', how='outer', indicator=True)"
   ]
  },
  {
   "cell_type": "code",
   "execution_count": 195,
   "metadata": {
    "ExecuteTime": {
     "end_time": "2019-07-22T00:41:21.878903Z",
     "start_time": "2019-07-22T00:41:21.862609Z"
    }
   },
   "outputs": [],
   "source": [
    "for column in columns_toadd:\n",
    "    df_currentvalues[column+'rolling'] = df_currentvalues[column].rolling(window=30, min_periods=1).mean()"
   ]
  },
  {
   "cell_type": "code",
   "execution_count": 196,
   "metadata": {
    "ExecuteTime": {
     "end_time": "2019-07-22T00:41:22.209994Z",
     "start_time": "2019-07-22T00:41:22.197905Z"
    }
   },
   "outputs": [],
   "source": [
    "df_currentvalues = df_currentvalues[df_currentvalues['_merge']!='left_only']"
   ]
  },
  {
   "cell_type": "code",
   "execution_count": 197,
   "metadata": {
    "ExecuteTime": {
     "end_time": "2019-07-22T00:41:22.742660Z",
     "start_time": "2019-07-22T00:41:22.557512Z"
    }
   },
   "outputs": [],
   "source": [
    "# use weekly spreads before 1990Q2 and daily spreads after 1990Q2\n",
    "df_currentvalues['BAA10Y'] = df_currentvalues.apply(lambda x: x['DBAA10Yrolling'] if x['DATE'] >= 19902 else x['WBAA10Yrolling'], axis=1)\n",
    "\n",
    "df_currentvalues['rff_q_obs'] = df_currentvalues['DFFrolling']/4\n",
    "df_currentvalues['cp_q_obsBaaT10'] = df_currentvalues['BAA10Y']/4"
   ]
  },
  {
   "cell_type": "code",
   "execution_count": 198,
   "metadata": {
    "ExecuteTime": {
     "end_time": "2019-07-22T00:41:22.907368Z",
     "start_time": "2019-07-22T00:41:22.898033Z"
    }
   },
   "outputs": [],
   "source": [
    "df_currentvalues = df_currentvalues[['DATE', 'cp_q_obsBaaT10', 'rff_q_obs']]"
   ]
  },
  {
   "cell_type": "code",
   "execution_count": 199,
   "metadata": {
    "ExecuteTime": {
     "end_time": "2019-07-22T00:41:23.438568Z",
     "start_time": "2019-07-22T00:41:23.293210Z"
    }
   },
   "outputs": [],
   "source": [
    "df_currentvalues['DATE'] = df_currentvalues['DATE'].map(lambda x: int(x))\n",
    "df_currentvalues.reset_index(drop=True, inplace=True)"
   ]
  },
  {
   "cell_type": "markdown",
   "metadata": {},
   "source": [
    "### Generate Excel spreadsheets"
   ]
  },
  {
   "cell_type": "code",
   "execution_count": 200,
   "metadata": {
    "ExecuteTime": {
     "end_time": "2019-07-22T00:41:24.479343Z",
     "start_time": "2019-07-22T00:41:24.473455Z"
    }
   },
   "outputs": [],
   "source": [
    "df_currentvalues.rename({col:col+'nc' for col in df_currentvalues.columns}, axis=1, inplace=True)"
   ]
  },
  {
   "cell_type": "code",
   "execution_count": 201,
   "metadata": {
    "ExecuteTime": {
     "end_time": "2019-07-22T00:41:52.220834Z",
     "start_time": "2019-07-22T00:41:52.205412Z"
    }
   },
   "outputs": [],
   "source": [
    "df = pd.merge(df_pastvalues, df_currentvalues, left_on='DATE', right_on='DATEnc', how='outer')"
   ]
  },
  {
   "cell_type": "code",
   "execution_count": 207,
   "metadata": {
    "ExecuteTime": {
     "end_time": "2019-07-22T00:45:38.296612Z",
     "start_time": "2019-07-22T00:45:38.285793Z"
    }
   },
   "outputs": [
    {
     "name": "stdout",
     "output_type": "stream",
     "text": [
      "The maximal difference between FFR and FFRnc is 0.5622.\n",
      "The maximal difference between BAA10Y and BAA10Ync is 0.2028.\n"
     ]
    }
   ],
   "source": [
    "print(f\"The maximal difference between FFR and FFRnc is {np.nanmax(abs(df['rff_q_obs'] - df['rff_q_obsnc'])):.4f}.\")\n",
    "print(f\"The maximal difference between BAA10Y and BAA10Ync is {np.nanmax(abs(df['cp_q_obsBaaT10'] - df['cp_q_obsBaaT10nc'])):.4f}.\")"
   ]
  },
  {
   "cell_type": "code",
   "execution_count": 225,
   "metadata": {
    "ExecuteTime": {
     "end_time": "2019-07-22T00:52:36.147821Z",
     "start_time": "2019-07-22T00:52:36.140426Z"
    }
   },
   "outputs": [],
   "source": [
    "df.set_index('DATE', drop=True, inplace=True)"
   ]
  },
  {
   "cell_type": "code",
   "execution_count": 249,
   "metadata": {
    "ExecuteTime": {
     "end_time": "2019-07-22T01:06:01.210725Z",
     "start_time": "2019-07-22T01:06:01.202050Z"
    }
   },
   "outputs": [],
   "source": [
    "def f(x, nowcast=True):\n",
    "    series = []\n",
    "    for index, value in x.items():\n",
    "        if index == x.name:\n",
    "            if nowcast == True:\n",
    "                series.append(np.nanmax([df.loc[index, variable+'nc'], -999]))\n",
    "            else:\n",
    "                series.append(-999)\n",
    "        elif index > x.name:\n",
    "            series.append(-999)\n",
    "        else:\n",
    "            series.append(np.nanmax([df.loc[index, variable], -99]))\n",
    "    return series"
   ]
  },
  {
   "cell_type": "code",
   "execution_count": 288,
   "metadata": {
    "ExecuteTime": {
     "end_time": "2019-07-22T01:24:08.821734Z",
     "start_time": "2019-07-22T01:24:02.348896Z"
    }
   },
   "outputs": [],
   "source": [
    "for variable in fredtoobs.values():\n",
    "    table = new_table(date_begin, date_end)\n",
    "    table = table.apply(lambda x: f(x))\n",
    "    table.index = [str(i)[:4]+':Q'+str(i)[-1] for i in table.index]\n",
    "    table.index.name = 'DATE'\n",
    "    \n",
    "    drop_columns = set(col for col in table.columns if col < 19654).union(set(col for col in table.columns if table[col].max() <= -99))\n",
    "    table.drop(drop_columns, axis=1, inplace=True)\n",
    "    table.columns = [str(col)[2:4]+'Q'+str(col)[-1] for col in table.columns]\n",
    "    \n",
    "    table.to_excel(variable + '.xls')"
   ]
  },
  {
   "cell_type": "code",
   "execution_count": null,
   "metadata": {},
   "outputs": [],
   "source": []
  }
 ],
 "metadata": {
  "kernelspec": {
   "display_name": "Python 3",
   "language": "python",
   "name": "python3"
  },
  "language_info": {
   "codemirror_mode": {
    "name": "ipython",
    "version": 3
   },
   "file_extension": ".py",
   "mimetype": "text/x-python",
   "name": "python",
   "nbconvert_exporter": "python",
   "pygments_lexer": "ipython3",
   "version": "3.6.8"
  }
 },
 "nbformat": 4,
 "nbformat_minor": 2
}
