{
 "cells": [
  {
   "cell_type": "markdown",
   "metadata": {},
   "source": [
    "#### load libraries"
   ]
  },
  {
   "cell_type": "code",
   "execution_count": 1,
   "metadata": {},
   "outputs": [],
   "source": [
    "# The program runs on Python 3.6\n",
    "import pandas as pd\n",
    "import numpy as np\n",
    "from tqdm import tqdm_notebook\n",
    "pd.set_option('mode.chained_assignment', None)"
   ]
  },
  {
   "cell_type": "markdown",
   "metadata": {},
   "source": [
    "#### preambles"
   ]
  },
  {
   "cell_type": "code",
   "execution_count": 2,
   "metadata": {},
   "outputs": [],
   "source": [
    "observables = ['xgdp_q_obs_frbedo', 'pgdp_q_obs_frbedo', 'rff_q_obs_frbedo', 'pecnn_q_obs_frbedo', 'pecd_q_obs_frbedo',\n",
    "               'per_q_obs_frbedo', 'penr_q_obs_frbedo', 'paipc_q_obs_frbedo', 'paipk_q_obs_frbedo', 'hours_obs_frbedo',\n",
    "               'wage_obs_frbedo']"
   ]
  },
  {
   "cell_type": "markdown",
   "metadata": {},
   "source": [
    "#### declare observables in 'List_Observables_US.xls'"
   ]
  },
  {
   "cell_type": "code",
   "execution_count": null,
   "metadata": {},
   "outputs": [],
   "source": [
    "filepath = '../../EstimationInterface/List_Observables_US.xls'\n",
    "list_obs = pd.read_excel(filepath, sheet_name=['q', 'a'])"
   ]
  },
  {
   "cell_type": "code",
   "execution_count": null,
   "metadata": {},
   "outputs": [],
   "source": [
    "numbers = list(range(list_obs['q'].shape[0], list_obs['q'].shape[0]+len(observables)))\n",
    "newlist_obs = pd.DataFrame(np.transpose([numbers, observables, observables]), columns=list_obs['q'].columns)\n",
    "list_obs['q'] = pd.concat([list_obs['q'], newlist_obs])"
   ]
  },
  {
   "cell_type": "code",
   "execution_count": null,
   "metadata": {},
   "outputs": [],
   "source": [
    "def to_integer(x):\n",
    "    '''Convert anything to integer wherever possible'''\n",
    "    try:\n",
    "        return int(x)\n",
    "    except:\n",
    "        return x"
   ]
  },
  {
   "cell_type": "code",
   "execution_count": null,
   "metadata": {},
   "outputs": [],
   "source": [
    "list_obs['q']['Number'] = list_obs['q']['Number'].map(lambda x: to_integer(x))"
   ]
  },
  {
   "cell_type": "code",
   "execution_count": null,
   "metadata": {},
   "outputs": [],
   "source": [
    "writer = pd.ExcelWriter('test.xls')"
   ]
  },
  {
   "cell_type": "code",
   "execution_count": null,
   "metadata": {},
   "outputs": [],
   "source": [
    "for key, _ in list_obs.items():\n",
    "    list_obs[key].to_excel(writer, sheet_name=key, index=False)"
   ]
  },
  {
   "cell_type": "code",
   "execution_count": null,
   "metadata": {},
   "outputs": [],
   "source": [
    "writer.save()"
   ]
  },
  {
   "cell_type": "markdown",
   "metadata": {},
   "source": [
    "#### load raw data"
   ]
  },
  {
   "cell_type": "code",
   "execution_count": 3,
   "metadata": {},
   "outputs": [],
   "source": [
    "df_alfred = pd.read_csv('alfred_raw.csv', index_col=0)\n",
    "df_spf = pd.read_csv('spf_raw.csv', index_col=0)"
   ]
  },
  {
   "cell_type": "code",
   "execution_count": 4,
   "metadata": {},
   "outputs": [],
   "source": [
    "# set date as the index\n",
    "df_alfred.set_index('date', inplace=True)\n",
    "df_spf.set_index('date', inplace=True)\n",
    "# create multiindex columns\n",
    "df_alfred.columns = pd.MultiIndex.from_arrays([[column[:-7] for column in df_alfred.columns], [column[-6:] for column in df_alfred.columns]])"
   ]
  },
  {
   "cell_type": "code",
   "execution_count": 5,
   "metadata": {},
   "outputs": [],
   "source": [
    "# GDPC1 nowcast = RGDP2\n",
    "# GDPCTPI nowcast = PGDP2\n",
    "# PRFI nowcast = RRESINV2(t)*GDPCTPI(t)/RRESINV2(t-1)/GDPCTPI(t-1)*PRFI(t-1)"
   ]
  },
  {
   "cell_type": "code",
   "execution_count": 6,
   "metadata": {},
   "outputs": [],
   "source": [
    "df_alfredspf = df_alfred.copy()\n",
    "for index in df_alfredspf.index:\n",
    "    if int(index.replace(':Q','')) >= 19684:\n",
    "        df_alfredspf.loc[index, ('GDPC1', index.replace(':', ''))] = df_spf.loc[index, 'RGDP2']\n",
    "        df_alfredspf.loc[index, ('GDPCTPI', index.replace(':', ''))] = df_spf.loc[index, 'PGDP2']\n",
    "        \n",
    "    if int(index.replace(':Q','')) >= 19814:\n",
    "        A = df_spf.loc[index, 'RRESINV2']*df_alfredspf.loc[index, ('GDPCTPI', index.replace(':', ''))]\n",
    "        B = df_spf.loc[index, 'RRESINV1']*df_alfredspf.loc[last_index, ('GDPCTPI', index.replace(':', ''))]\n",
    "        C = df_alfredspf.loc[last_index, ('PRFI', index.replace(':', ''))]\n",
    "        prfi_nowcast = A/B*C\n",
    "        df_alfredspf.loc[index, ('PRFI', index.replace(':', ''))] = prfi_nowcast\n",
    "        \n",
    "        A = df_spf.loc[index, 'RNRESIN2']*df_alfredspf.loc[index, ('GDPCTPI', index.replace(':', ''))]\n",
    "        B = df_spf.loc[index, 'RNRESIN1']*df_alfredspf.loc[last_index, ('GDPCTPI', index.replace(':', ''))]\n",
    "        C = df_alfredspf.loc[last_index, ('PNFI', index.replace(':', ''))]\n",
    "        pnfi_nowcast = A/B*C\n",
    "        df_alfredspf.loc[index, ('PNFI', index.replace(':', ''))] = pnfi_nowcast\n",
    "        \n",
    "    last_index = index"
   ]
  },
  {
   "cell_type": "markdown",
   "metadata": {},
   "source": [
    "#### transform data and generate observables"
   ]
  },
  {
   "cell_type": "code",
   "execution_count": 7,
   "metadata": {},
   "outputs": [],
   "source": [
    "# PECNN = [PCND(t) + PCESV(t)]/[PCNDGC96(t) + PCESVC96(t)]\n",
    "# PECD = PCDG(t)/PCDGCC96(t)\n",
    "# HOURS = AWHNONAG(t)*CE16OV(t)/CNP16OV(t)\n",
    "\n",
    "# xgdp_q_obs_frbedo = GDPC1(t)/GDPC1(t-1)\n",
    "# pgdp_q_obs_frbedo = GDPCTPI(t)/GDPCTPI(t-1)\n",
    "# rff_q_obs_frbedo = FEDFUNDS(t)/400 + 1\n",
    "# pecnn_q_obs_frbedo = [PCND(t) + PCESV(t)]/[PCND(t-1) + PCESV(t-1)]\n",
    "# pecd_q_obs_frbedo = PCDG(t)/PCDG(t-1)\n",
    "# per_q_obs_frbedo = PRFI(t)/PRFI(t-1)\n",
    "# penr_q_obs_frbedo = PNFI(t)/PNFI(t-1)\n",
    "# paipc_q_obs_frbedo = PECNN(t) / PECNN(t-1)\n",
    "# paipk_q_obs_frbedo = PECD(t) / PECD(t-1)\n",
    "# hours_obs_frbedo = HOURS(t) / AVERAGE(HOURS, 1968Q1-most recent observation)\n",
    "# wage_obs_frbedo = [COMPNFB(t) / GDPCTPI(t)] / [COMPNFB(t-1) / GDPCTPI(t-1)]"
   ]
  },
  {
   "cell_type": "code",
   "execution_count": 8,
   "metadata": {},
   "outputs": [
    {
     "data": {
      "application/vnd.jupyter.widget-view+json": {
       "model_id": "44773ec2f693437594d272416cf09b5b",
       "version_major": 2,
       "version_minor": 0
      },
      "text/plain": [
       "HBox(children=(IntProgress(value=0, max=288), HTML(value='')))"
      ]
     },
     "metadata": {},
     "output_type": "display_data"
    },
    {
     "name": "stderr",
     "output_type": "stream",
     "text": [
      "/Users/zexisun/anaconda3/lib/python3.6/site-packages/pandas/core/generic.py:3111: PerformanceWarning: dropping on a non-lexsorted multi-index without a level parameter may impact performance.\n",
      "  obj = obj._drop_axis(labels, axis, level=level, errors=errors)\n"
     ]
    },
    {
     "name": "stdout",
     "output_type": "stream",
     "text": [
      "\n"
     ]
    }
   ],
   "source": [
    "vintages = sorted(set(df_alfredspf.columns.get_level_values(1)))\n",
    "for index, vintage in tqdm_notebook(enumerate(vintages), total=len(vintages)):\n",
    "    \n",
    "    # load vintage\n",
    "    vdf = df_alfredspf.xs(vintage, axis=1, level=1)\n",
    "    \n",
    "    # generate intermediate series\n",
    "    vdf.loc[:, 'PECNN'] = (vdf['PCND'].values + vdf['PCESV'].values) / (vdf['PCNDGC96'].values + vdf['PCESVC96'].values)\n",
    "    vdf.loc[:, 'PECD'] = vdf['PCDG'].values / vdf['PCDGCC96'].values\n",
    "    vdf.loc[:, 'HOURS'] = vdf['AWHNONAG'].values * vdf['CE16OV'].values / vdf['CNP16OV'].values\n",
    "    \n",
    "    # generate observed series\n",
    "    vdf.loc[:, 'xgdp_q_obs_frbedo'] = vdf['GDPC1'].values/vdf['GDPC1'].shift().values\n",
    "    vdf.loc[:, 'pgdp_q_obs_frbedo'] = vdf['GDPCTPI'].values/vdf['GDPCTPI'].shift().values\n",
    "    vdf.loc[:, 'rff_q_obs_frbedo'] = vdf['FEDFUNDS'].values/400 + 1\n",
    "    vdf.loc[:, 'pecnn_q_obs_frbedo'] = (vdf['PCND'].values + vdf['PCESV'].values) / (vdf['PCND'].shift().values + vdf['PCESV'].shift().values)\n",
    "    vdf.loc[:, 'pecd_q_obs_frbedo'] = vdf['PCDG'].values/vdf['PCDG'].shift().values\n",
    "    vdf.loc[:, 'per_q_obs_frbedo'] = vdf['PRFI'].values/vdf['PRFI'].shift().values\n",
    "    vdf.loc[:, 'penr_q_obs_frbedo'] = vdf['PNFI'].values/vdf['PNFI'].shift().values\n",
    "    vdf.loc[:, 'paipc_q_obs_frbedo'] = vdf['PECNN'].values/vdf['PECNN'].shift().values\n",
    "    vdf.loc[:, 'paipk_q_obs_frbedo'] = vdf['PECD'].values/vdf['PECD'].shift().values\n",
    "    vdf.loc[:, 'hours_obs_frbedo'] = vdf['HOURS'].values/vdf.loc['1968:Q1':, 'HOURS'].mean()\n",
    "    vdf.loc[:, 'wage_obs_frbedo'] = (vdf['COMPNFB'].values/vdf['GDPCTPI'].values) / (vdf['COMPNFB'].shift().values/vdf['GDPCTPI'].shift().values)\n",
    "    \n",
    "    # merge\n",
    "    vdf.columns = pd.MultiIndex.from_arrays([vdf.columns, [vintage]*vdf.shape[1]])\n",
    "    vdf.reset_index(drop=False, inplace=True)\n",
    "    df = vdf if index == 0 else pd.merge(df, vdf, on='date')"
   ]
  },
  {
   "cell_type": "code",
   "execution_count": 9,
   "metadata": {
    "scrolled": true
   },
   "outputs": [],
   "source": [
    "# set date as the index\n",
    "df.set_index('date', inplace=True)"
   ]
  },
  {
   "cell_type": "code",
   "execution_count": 10,
   "metadata": {},
   "outputs": [],
   "source": [
    "dropped_columns = []\n",
    "for year in range(1947, 1965+1):\n",
    "    for quarter in range(1, 4+1):\n",
    "        dropped_columns.append(str(year)+'Q'+str(quarter))\n",
    "dropped_columns.remove('1965Q4')"
   ]
  },
  {
   "cell_type": "markdown",
   "metadata": {},
   "source": [
    "#### with SPF nowcast"
   ]
  },
  {
   "cell_type": "code",
   "execution_count": 46,
   "metadata": {},
   "outputs": [],
   "source": [
    "df_nowcast = df.copy()"
   ]
  },
  {
   "cell_type": "code",
   "execution_count": 49,
   "metadata": {},
   "outputs": [
    {
     "data": {
      "application/vnd.jupyter.widget-view+json": {
       "model_id": "3a46db5546c442c081d851693e7b8228",
       "version_major": 2,
       "version_minor": 0
      },
      "text/plain": [
       "HBox(children=(IntProgress(value=0, max=11), HTML(value='')))"
      ]
     },
     "metadata": {},
     "output_type": "display_data"
    },
    {
     "name": "stdout",
     "output_type": "stream",
     "text": [
      "\n"
     ]
    }
   ],
   "source": [
    "for observable in tqdm_notebook(observables):\n",
    "    df_obs = df_nowcast[observable]\n",
    "    df_obs.drop(dropped_columns, axis=1, inplace=True)\n",
    "    df_obs.drop(['1947:Q1'], inplace=True)\n",
    "    df_obs.fillna(-99, inplace=True)\n",
    "    for index, row in df_obs.iterrows():\n",
    "        current_date = int(index.replace(':Q', ''))\n",
    "        for column in df_obs.columns.values:\n",
    "            if int(column.replace('Q', '')) <= current_date and row[column] == -99:\n",
    "                df_obs.loc[index, column] = -999\n",
    "    df_obs.columns = [observable + vintage[-4:] for vintage in df_obs.columns]\n",
    "    df_obs.index.name = 'DATE'\n",
    "    path = '../../DATA/USDATA/Tranformed_Data_SPF/'\n",
    "    df_obs.to_excel(path + observable + '.xls')"
   ]
  },
  {
   "cell_type": "markdown",
   "metadata": {},
   "source": [
    "#### without SPF nowcast"
   ]
  },
  {
   "cell_type": "code",
   "execution_count": 41,
   "metadata": {},
   "outputs": [],
   "source": [
    "df_nonowcast = df.copy()"
   ]
  },
  {
   "cell_type": "code",
   "execution_count": 42,
   "metadata": {},
   "outputs": [],
   "source": [
    "for index in df_nonowcast.index:\n",
    "    for observable in observables:\n",
    "        df_nonowcast.loc[index, (observable, index.replace(':', ''))] = float('nan')"
   ]
  },
  {
   "cell_type": "code",
   "execution_count": 45,
   "metadata": {},
   "outputs": [
    {
     "data": {
      "application/vnd.jupyter.widget-view+json": {
       "model_id": "32003552108c47aea927eae8c1f18ec7",
       "version_major": 2,
       "version_minor": 0
      },
      "text/plain": [
       "HBox(children=(IntProgress(value=0, max=11), HTML(value='')))"
      ]
     },
     "metadata": {},
     "output_type": "display_data"
    },
    {
     "name": "stdout",
     "output_type": "stream",
     "text": [
      "\n"
     ]
    }
   ],
   "source": [
    "for observable in tqdm_notebook(observables):\n",
    "    df_obs = df_nonowcast[observable]\n",
    "    df_obs.drop(dropped_columns, axis=1, inplace=True)\n",
    "    df_obs.drop(['1947:Q1'], inplace=True)\n",
    "    df_obs.fillna(-99, inplace=True)\n",
    "    for index, row in df_obs.iterrows():\n",
    "        current_date = int(index.replace(':Q', ''))\n",
    "        for column in df_obs.columns.values:\n",
    "            if int(column.replace('Q', '')) <= current_date and row[column] == -99:\n",
    "                df_obs.loc[index, column] = -999\n",
    "    df_obs.columns = [observable + vintage[-4:] for vintage in df_obs.columns]\n",
    "    df_obs.index.name = 'DATE'\n",
    "    path = '../../DATA/USDATA/Tranformed_Data/'\n",
    "    df_obs.to_excel(path + observable + '.xls')"
   ]
  },
  {
   "cell_type": "code",
   "execution_count": null,
   "metadata": {
    "scrolled": false
   },
   "outputs": [],
   "source": [
    "# # observations that have current-period values\n",
    "# for rowindex, row in df.iterrows():\n",
    "#     for colindex, value in row[:, rowindex.replace(':', '')].items():\n",
    "#         if colindex.endswith('frbedo') and not np.isnan(value):\n",
    "#             print(f'{colindex}: {value}')"
   ]
  }
 ],
 "metadata": {
  "kernelspec": {
   "display_name": "Python 3",
   "language": "python",
   "name": "python3"
  },
  "language_info": {
   "codemirror_mode": {
    "name": "ipython",
    "version": 3
   },
   "file_extension": ".py",
   "mimetype": "text/x-python",
   "name": "python",
   "nbconvert_exporter": "python",
   "pygments_lexer": "ipython3",
   "version": "3.6.8"
  }
 },
 "nbformat": 4,
 "nbformat_minor": 2
}
